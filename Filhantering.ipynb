{
 "cells": [
  {
   "cell_type": "code",
   "execution_count": 71,
   "metadata": {},
   "outputs": [
    {
     "name": "stdout",
     "output_type": "stream",
     "text": [
      "Hej\n",
      "Hello\n",
      "Ja\n",
      "Den 4 raden\n",
      "HEJEHEJEHEJ555\n",
      "\n",
      "\n",
      "Slut på utskriften!\n",
      "\n"
     ]
    }
   ],
   "source": [
    "while True:  #Loop\n",
    "    try:  # Försök att köra koden inuti detta block\n",
    "        namn = input('Ange filnamn: ')\n",
    "        f = open(namn, 'r')  # Försöker öppna filen i läsläge ('r' står för 'read')\n",
    "        läsa = f.readlines()  # Läser in alla rader från filen till en lista 'läsa'\n",
    "        f.close()  # Stänger filen\n",
    "        break  # Avbryter loopen om filen har öppnats och lästs korrekt\n",
    "    except:  # Om något fel uppstår\n",
    "        print('Filen finns inte', namn)  #felmeddelande\n",
    "    \n",
    "for läs in läsa:  # Loopar igenom varje rad i listan 'läsa'\n",
    "    print(läs.strip())  # Skriv ut raden utan extra blanksteg i början eller slutet\n",
    "\n",
    "print('\\n\\nSlut på utskriften!\\n')\n"
   ]
  },
  {
   "cell_type": "code",
   "execution_count": 72,
   "metadata": {},
   "outputs": [
    {
     "name": "stdout",
     "output_type": "stream",
     "text": [
      "1 Hej\n",
      " \n",
      "2 Hello\n",
      " \n",
      "3 Ja\n",
      " \n",
      "4 Den 4 raden\n",
      " \n",
      "5     HEJEHEJEHEJ555\n",
      " \n",
      "6     uhoauhdouhawoh\n",
      " \n",
      "7 uahkuhoue \n"
     ]
    }
   ],
   "source": [
    "import pandas as pd\n",
    "\n",
    "while True:\n",
    "    try:\n",
    "        namn = input('Ange filnamn: ')\n",
    "        f=open(namn, 'r') \n",
    "        läsa=f.readlines()\n",
    "        f.close()\n",
    "        break\n",
    "    except:\n",
    "        print('Filen finns inte', namn)\n",
    "\n",
    "nummer=int(len(läsa)) \n",
    "list = [[], []]\n",
    "\n",
    "for x in range(nummer):\n",
    "    list[0].append(nummer-x)\n",
    "    list[0].sort(reverse=False)\n",
    "\n",
    "for läs in läsa:\n",
    "    list[1].append(läs)\n",
    "\n",
    "for row in zip(*list): \n",
    "  for col in row: \n",
    "    print(col, end=' ') \n",
    "  print() "
   ]
  },
  {
   "cell_type": "code",
   "execution_count": 2,
   "metadata": {},
   "outputs": [],
   "source": [
    "def main():\n",
    "    with open(\"TELE.TXT\", \"a\") as file:  # Öppna filen i tilläggsläge\n",
    "        while True:\n",
    "            name = input(\"Ange namn (eller tryck Enter för att avsluta): \")\n",
    "            if name == \"\":\n",
    "                break\n",
    "            phone = input(\"Ange telefonnummer: \")\n",
    "            if phone == \"\":\n",
    "                break\n",
    "            \n",
    "            file.write(name + \"\\n\")  # Skriv namnet till filen\n",
    "            file.write(phone + \"\\n\")  # Skriv telefonnumret till filen\n",
    "\n",
    "if __name__ == \"__main__\":\n",
    "    main()\n"
   ]
  },
  {
   "cell_type": "code",
   "execution_count": 3,
   "metadata": {},
   "outputs": [
    {
     "name": "stdout",
     "output_type": "stream",
     "text": [
      "TELEFONLISTA\n",
      "Namn                Telefonnummer\n",
      "----------------------------------------\n",
      "aXEL                070699696\n"
     ]
    }
   ],
   "source": [
    "def print_telefonlista():\n",
    "    print(\"TELEFONLISTA\")\n",
    "    print(f\"{'Namn':<20}{'Telefonnummer'}\")  # Rubriken med två kolumner\n",
    "    print(\"-\" * 40)  # Separatorlinje\n",
    "\n",
    "    try:\n",
    "        with open(\"TELE.TXT\", \"r\") as file:  # Öppna filen i läsläge\n",
    "            lines = file.readlines()\n",
    "\n",
    "            # Loopa igenom filen och skriv ut namn och telefonnummer i två kolumner\n",
    "            for i in range(0, len(lines), 2):\n",
    "                name = lines[i].strip()\n",
    "                phone = lines[i+1].strip() if i+1 < len(lines) else ''\n",
    "                print(f\"{name:<20}{phone}\")\n",
    "\n",
    "    except FileNotFoundError:\n",
    "        print(\"Filen TELE.TXT kunde inte hittas.\")\n",
    "\n",
    "if __name__ == \"__main__\":\n",
    "    print_telefonlista()\n"
   ]
  }
 ],
 "metadata": {
  "kernelspec": {
   "display_name": "Python 3",
   "language": "python",
   "name": "python3"
  },
  "language_info": {
   "codemirror_mode": {
    "name": "ipython",
    "version": 3
   },
   "file_extension": ".py",
   "mimetype": "text/x-python",
   "name": "python",
   "nbconvert_exporter": "python",
   "pygments_lexer": "ipython3",
   "version": "3.10.11"
  }
 },
 "nbformat": 4,
 "nbformat_minor": 2
}
