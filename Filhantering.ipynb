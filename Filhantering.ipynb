{
 "cells": [
  {
   "cell_type": "code",
   "execution_count": 71,
   "metadata": {},
   "outputs": [
    {
     "name": "stdout",
     "output_type": "stream",
     "text": [
      "Hej\n",
      "Hello\n",
      "Ja\n",
      "Den 4 raden\n",
      "HEJEHEJEHEJ555\n",
      "\n",
      "\n",
      "Slut på utskriften!\n",
      "\n"
     ]
    }
   ],
   "source": [
    "while True:\n",
    "    try:\n",
    "        namn = input('Ange filnamn: ')\n",
    "        f=open(namn, 'r') \n",
    "        läsa=f.readlines()\n",
    "        f.close()\n",
    "        break\n",
    "    except:\n",
    "        print('Filen finns inte', namn)\n",
    "    \n",
    "for läs in läsa:\n",
    "    print(läs.strip())\n",
    "\n",
    "print('\\n\\nSlut på utskriften!\\n')"
   ]
  },
  {
   "cell_type": "code",
   "execution_count": 72,
   "metadata": {},
   "outputs": [
    {
     "name": "stdout",
     "output_type": "stream",
     "text": [
      "1 Hej\n",
      " \n",
      "2 Hello\n",
      " \n",
      "3 Ja\n",
      " \n",
      "4 Den 4 raden\n",
      " \n",
      "5     HEJEHEJEHEJ555\n",
      " \n",
      "6     uhoauhdouhawoh\n",
      " \n",
      "7 uahkuhoue \n"
     ]
    }
   ],
   "source": [
    "import pandas as pd\n",
    "\n",
    "while True:\n",
    "    try:\n",
    "        namn = input('Ange filnamn: ')\n",
    "        f=open(namn, 'r') \n",
    "        läsa=f.readlines()\n",
    "        f.close()\n",
    "        break\n",
    "    except:\n",
    "        print('Filen finns inte', namn)\n",
    "\n",
    "nummer=int(len(läsa)) \n",
    "list = [[], []]\n",
    "\n",
    "for x in range(nummer):\n",
    "    list[0].append(nummer-x)\n",
    "    list[0].sort(reverse=False)\n",
    "\n",
    "for läs in läsa:\n",
    "    list[1].append(läs)\n",
    "\n",
    "for row in zip(*list): \n",
    "  for col in row: \n",
    "    print(col, end=' ') \n",
    "  print() "
   ]
  }
 ],
 "metadata": {
  "kernelspec": {
   "display_name": "Python 3",
   "language": "python",
   "name": "python3"
  },
  "language_info": {
   "codemirror_mode": {
    "name": "ipython",
    "version": 3
   },
   "file_extension": ".py",
   "mimetype": "text/x-python",
   "name": "python",
   "nbconvert_exporter": "python",
   "pygments_lexer": "ipython3",
   "version": "3.10.11"
  }
 },
 "nbformat": 4,
 "nbformat_minor": 2
}
