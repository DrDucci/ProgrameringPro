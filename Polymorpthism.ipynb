{
 "cells": [
  {
   "cell_type": "code",
   "execution_count": 1,
   "metadata": {},
   "outputs": [
    {
     "name": "stdout",
     "output_type": "stream",
     "text": [
      "Addition: 8\n",
      "Subtraktion: 4\n",
      "Multiplicering: 12\n"
     ]
    }
   ],
   "source": [
    "from abc import ABC, abstractmethod\n",
    "\n",
    "#Abstrakt klass Operation\n",
    "class Operation(ABC):\n",
    "    @abstractmethod\n",
    "    def utför(self, tal1, tal2):\n",
    "        pass\n",
    "\n",
    "#Addition, Subtraktion, och Multiplicering\n",
    "class Addition(Operation):\n",
    "    def utför(self, tal1, tal2):\n",
    "        return tal1 + tal2\n",
    "\n",
    "class Subtraktion(Operation):\n",
    "    def utför(self, tal1, tal2):\n",
    "        return tal1 - tal2\n",
    "\n",
    "class Multiplicering(Operation):\n",
    "    def utför(self, tal1, tal2):\n",
    "        return tal1 * tal2\n",
    "\n",
    "# Skapar en klass Kalkylator\n",
    "class Kalkylator:\n",
    "    def utför_operation(self, tal1, tal2, operation):\n",
    "        # Anropa utför-metoden för den passande operationen\n",
    "        resultat = operation.utför(tal1, tal2)\n",
    "        return resultat\n",
    "\n",
    "#Skapa instanser av de matematiska operationerna och använd Kalkylator-klassen\n",
    "if __name__ == \"__main__\":\n",
    "    #Instanser för Kalkylator och Operation-subklasser\n",
    "    kalkylator = Kalkylator()\n",
    "    addition = Addition()\n",
    "    subtraktion = Subtraktion()\n",
    "    multiplikation = Multiplicering()\n",
    "\n",
    "    # Kalkylator-klassen för att utföra olika operationer\n",
    "    resultat_addition = kalkylator.utför_operation(5, 3, addition)\n",
    "    resultat_subtraktion = kalkylator.utför_operation(8, 4, subtraktion)\n",
    "    resultat_multiplikation = kalkylator.utför_operation(2, 6, multiplikation)\n",
    "\n",
    "    # Resultaten\n",
    "    print(f\"Addition: {resultat_addition}\")\n",
    "    print(f\"Subtraktion: {resultat_subtraktion}\")\n",
    "    print(f\"Multiplicering: {resultat_multiplikation}\")\n"
   ]
  }
 ],
 "metadata": {
  "kernelspec": {
   "display_name": "Python 3",
   "language": "python",
   "name": "python3"
  },
  "language_info": {
   "codemirror_mode": {
    "name": "ipython",
    "version": 3
   },
   "file_extension": ".py",
   "mimetype": "text/x-python",
   "name": "python",
   "nbconvert_exporter": "python",
   "pygments_lexer": "ipython3",
   "version": "3.10.6"
  },
  "orig_nbformat": 4
 },
 "nbformat": 4,
 "nbformat_minor": 2
}
