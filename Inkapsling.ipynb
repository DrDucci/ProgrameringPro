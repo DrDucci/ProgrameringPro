{
 "cells": [
  {
   "cell_type": "code",
   "execution_count": 1,
   "metadata": {},
   "outputs": [
    {
     "name": "stdout",
     "output_type": "stream",
     "text": [
      "Aktuellt saldo för Alice: 1000 kr.\n",
      "Uttag av 300 kr genomfört. Nytt saldo: 1200 kr.\n",
      "Uttag av 800 kr genomfört. Nytt saldo: 400 kr.\n"
     ]
    }
   ],
   "source": [
    "class Bankkonto:\n",
    "    def __init__(self, kontoinnehavare, saldo=0):\n",
    "        self.__kontoinnehavare = kontoinnehavare\n",
    "        self.__saldo = saldo\n",
    "\n",
    "    def satta_in_pengar(self, belopp):\n",
    "        self.__saldo += belopp\n",
    "\n",
    "    def ta_ut_pengar(self, belopp):\n",
    "        if belopp <= self.__saldo:\n",
    "            self.__saldo -= belopp\n",
    "            print(f\"Uttag av {belopp} kr genomfört. Nytt saldo: {self.__saldo} kr.\")\n",
    "        else:\n",
    "            print(\"Otillräckligt saldo för uttag.\")\n",
    "\n",
    "    def visa_saldo(self):\n",
    "        print(f\"Aktuellt saldo för {self.__kontoinnehavare}: {self.__saldo} kr.\")\n",
    "\n",
    "\n",
    "# Exempel på användning:\n",
    "konto = Bankkonto(\"Alice\", 1000)\n",
    "konto.visa_saldo()\n",
    "konto.satta_in_pengar(500)\n",
    "konto.ta_ut_pengar(300)\n",
    "konto.ta_ut_pengar(800)\n"
   ]
  },
  {
   "cell_type": "code",
   "execution_count": 2,
   "metadata": {},
   "outputs": [
    {
     "name": "stdout",
     "output_type": "stream",
     "text": [
      "Namn: Alice, Ålder: 20, Betyg: [4, 5, 3] har lagts till i studerandehanteringen.\n",
      "Namn: Bob, Ålder: 22, Betyg: [5, 4, 5] har lagts till i studerandehanteringen.\n",
      "Namn: Alice, Ålder: 20, Betyg: [4, 5, 3]\n",
      "Medelbetyg för Namn: Alice, Ålder: 20, Betyg: [4, 5, 3]: 4.0\n",
      "Namn: Alice, Ålder: 20, Betyg: [4, 5, 3] har tagits bort från studerandehanteringen.\n"
     ]
    }
   ],
   "source": [
    "class Studerande:\n",
    "    def __init__(self, namn, alder, betyg=[]): #Skapar variabler för studerande\n",
    "        self.__namn = namn\n",
    "        self.__alder = alder\n",
    "        self.__betyg = betyg\n",
    "\n",
    "    def lagg_till_betyg(self, nytt_betyg):\n",
    "        # Validera betyg (till exempel, låt oss anta att betyget ska vara mellan 1 och 5)\n",
    "        if 1 <= nytt_betyg <= 5:\n",
    "            self.__betyg.append(nytt_betyg)\n",
    "            print(f\"Betyg {nytt_betyg} tillagt för {self.__namn}.\")\n",
    "        else:\n",
    "            print(\"Ogiltigt betyg. Betyg måste vara mellan 1 och 5.\")\n",
    "\n",
    "    def fa_medelbetyg(self):\n",
    "        if len(self.__betyg) > 0:\n",
    "            return sum(self.__betyg) / len(self.__betyg)\n",
    "        else:\n",
    "            return \"Inga betyg tillgängliga.\"\n",
    "\n",
    "    def satt_info(self, nytt_namn, ny_alder):\n",
    "        # Validera åldern (till exempel, anta att åldern måste vara ett positivt heltal)\n",
    "        if isinstance(ny_alder, int) and ny_alder > 0:\n",
    "            self.__namn = nytt_namn\n",
    "            self.__alder = ny_alder\n",
    "            print(f\"Information uppdaterad för {self.__namn}.\")\n",
    "        else:\n",
    "            print(\"Ogiltig ålder. Åldern måste vara ett positivt heltal.\")\n",
    "\n",
    "    def fa_info(self):\n",
    "        return f\"Namn: {self.__namn}, Ålder: {self.__alder}, Betyg: {self.__betyg}\"\n",
    "\n",
    "\n",
    "class Studerandehantering:\n",
    "    def __init__(self):\n",
    "        self.__studerande_lista = [] #Skapar en lista för studerande\n",
    "\n",
    "    def lagg_till_studerande(self, studerande):\n",
    "        self.__studerande_lista.append(studerande) #Lägger till studerande\n",
    "        print(f\"{studerande.fa_info()} har lagts till i studerandehanteringen.\")\n",
    "\n",
    "    def ta_bort_studerande(self, studerande):\n",
    "        if studerande in self.__studerande_lista:\n",
    "            self.__studerande_lista.remove(studerande) #Tar bort studerande\n",
    "            print(f\"{studerande.fa_info()} har tagits bort från studerandehanteringen.\")\n",
    "        else:\n",
    "            print(\"Studerande inte hittad i studerandehanteringen.\")\n",
    "\n",
    "\n",
    "#Användning:\n",
    "studerandehantering = Studerandehantering()\n",
    "alice = Studerande(\"Alice\", 20, [4, 5, 3])\n",
    "bob = Studerande(\"Bob\", 22, [5, 4, 5])\n",
    "studerandehantering.lagg_till_studerande(alice)\n",
    "studerandehantering.lagg_till_studerande(bob)\n",
    "print(alice.fa_info())\n",
    "print(f\"Medelbetyg för {alice.fa_info()}: {alice.fa_medelbetyg()}\")\n",
    "studerandehantering.ta_bort_studerande(alice)\n"
   ]
  }
 ],
 "metadata": {
  "kernelspec": {
   "display_name": "Python 3",
   "language": "python",
   "name": "python3"
  },
  "language_info": {
   "codemirror_mode": {
    "name": "ipython",
    "version": 3
   },
   "file_extension": ".py",
   "mimetype": "text/x-python",
   "name": "python",
   "nbconvert_exporter": "python",
   "pygments_lexer": "ipython3",
   "version": "3.10.6"
  }
 },
 "nbformat": 4,
 "nbformat_minor": 2
}
