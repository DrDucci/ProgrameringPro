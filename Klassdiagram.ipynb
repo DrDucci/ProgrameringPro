{
 "cells": [
  {
   "cell_type": "code",
   "execution_count": 1,
   "metadata": {},
   "outputs": [
    {
     "name": "stdout",
     "output_type": "stream",
     "text": [
      "Djuret heter Ko och gör ljudet Muu\n",
      "Djuret heter Katt och gör ljudet Mjau\n",
      "Djuret heter Sparv och gör ljudet Kvitt Kvitt\n",
      "Djuret heter Skata och gör ljudet Kaaa Kaaa\n",
      "Djuret heter Orm och gör ljudet Sssssh\n",
      "Djuret heter Mask och gör ljudet ....\n"
     ]
    }
   ],
   "source": [
    "class Djur:#Superklass\n",
    "    def __init__(self, namn): #Konsturktörer\n",
    "        self.namn = namn\n",
    "        self.ljud = \"Okänt\" #Sätter ljudet till okänt om det inte blir definerat\n",
    "\n",
    "    def beskriv(self): #En liten beskrivare\n",
    "        return f\"Djuret heter {self.namn} och gör ljudet {self.ljud}\"\n",
    "\n",
    "class Däggdjur(Djur): #Däggdjur med arv från Djur\n",
    "    djur_ljud = { #Skapar en dictionary för enklare kod\n",
    "        \"Ko\": \"Muu\", #Ko med ljudet Muu\n",
    "        \"Katt\": \"Mjau\"\n",
    "    }\n",
    "\n",
    "    def __init__(self, namn): #Tar informaionen från däggdjur och lägger den in i superkonsturktörerna\n",
    "        super().__init__(namn)\n",
    "        if namn in Däggdjur.djur_ljud:\n",
    "            self.ljud = Däggdjur.djur_ljud[namn]\n",
    "\n",
    "class Fågel(Djur):\n",
    "    djur_ljud = {\n",
    "        \"Sparv\": \"Kvitt Kvitt\",\n",
    "        \"Skata\": \"Kaaa Kaaa\"\n",
    "    }\n",
    "\n",
    "    def __init__(self, namn):\n",
    "        super().__init__(namn)\n",
    "        if namn in Fågel.djur_ljud:\n",
    "            self.ljud = Fågel.djur_ljud[namn]\n",
    "\n",
    "class Kräldjur(Djur):\n",
    "    djur_ljud = {\n",
    "        \"Orm\": \"Sssssh\",\n",
    "        \"Mask\": \"....\"\n",
    "    }\n",
    "\n",
    "    def __init__(self, namn):\n",
    "        super().__init__(namn)\n",
    "        if namn in Kräldjur.djur_ljud:\n",
    "            self.ljud = Kräldjur.djur_ljud[namn]\n",
    "\n",
    "djur_list = [  # Skapar en lista som innehåller olika djurinstanser\n",
    "    Däggdjur(\"Ko\"),    # Skapar en instans av Däggdjur med namnet \"Ko\"\n",
    "    Däggdjur(\"Katt\"), \n",
    "    Fågel(\"Sparv\"),   \n",
    "    Fågel(\"Skata\"),   \n",
    "    Kräldjur(\"Orm\"),  \n",
    "    Kräldjur(\"Mask\")\n",
    "]\n",
    "\n",
    "for djur in djur_list:  # Startar en loop som itererar över varje djur i djur_list\n",
    "    print(djur.beskriv())  # Skriver ut en beskrivning av varje djur och dess ljud\n",
    "\n"
   ]
  },
  {
   "cell_type": "code",
   "execution_count": 14,
   "metadata": {},
   "outputs": [
    {
     "name": "stdout",
     "output_type": "stream",
     "text": [
      "Welcome to blackjack!\n"
     ]
    }
   ],
   "source": [
    "class blackjack():\n",
    "    def __init__(self, dealer):\n",
    "        self.dealer = dealer\n",
    "        pass\n",
    "\n",
    "class dealer(blackjack):\n",
    "    def welcome(self):\n",
    "        return \"Welcome to blackjack!\"\n",
    "    def draw(self):\n",
    "        \n",
    "\n",
    "\n",
    "\n",
    "\n",
    "print(dealer().welcome())\n",
    "    "
   ]
  }
 ],
 "metadata": {
  "kernelspec": {
   "display_name": "Python 3",
   "language": "python",
   "name": "python3"
  },
  "language_info": {
   "codemirror_mode": {
    "name": "ipython",
    "version": 3
   },
   "file_extension": ".py",
   "mimetype": "text/x-python",
   "name": "python",
   "nbconvert_exporter": "python",
   "pygments_lexer": "ipython3",
   "version": "3.10.6"
  },
  "orig_nbformat": 4,
  "vscode": {
   "interpreter": {
    "hash": "157bb5e82d7224c478f76d980b743d9bbd2f9127d82f7fe594780a6e76884cbb"
   }
  }
 },
 "nbformat": 4,
 "nbformat_minor": 2
}
