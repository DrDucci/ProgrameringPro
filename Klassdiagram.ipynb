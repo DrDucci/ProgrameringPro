{
 "cells": [
  {
   "cell_type": "code",
   "execution_count": 1,
   "metadata": {},
   "outputs": [
    {
     "name": "stdout",
     "output_type": "stream",
     "text": [
      "Djuret heter Ko och gör ljudet Muu\n",
      "Djuret heter Katt och gör ljudet Mjau\n",
      "Djuret heter Sparv och gör ljudet Kvitt Kvitt\n",
      "Djuret heter Skata och gör ljudet Kaaa Kaaa\n",
      "Djuret heter Orm och gör ljudet Sssssh\n",
      "Djuret heter Mask och gör ljudet ....\n"
     ]
    }
   ],
   "source": [
    "class Djur:#Superklass\n",
    "    def __init__(self, namn): #Konsturktörer\n",
    "        self.namn = namn\n",
    "        self.ljud = \"Okänt\" #Sätter ljudet till okänt om det inte blir definerat\n",
    "\n",
    "    def beskriv(self): #En liten beskrivare\n",
    "        return f\"Djuret heter {self.namn} och gör ljudet {self.ljud}\"\n",
    "\n",
    "class Däggdjur(Djur): #Däggdjur med arv från Djur\n",
    "    djur_ljud = { #Skapar en dictionary för enklare kod\n",
    "        \"Ko\": \"Muu\", #Ko med ljudet Muu\n",
    "        \"Katt\": \"Mjau\"\n",
    "    }\n",
    "\n",
    "    def __init__(self, namn): #Tar informaionen från däggdjur och lägger den in i superkonsturktörerna\n",
    "        super().__init__(namn)\n",
    "        if namn in Däggdjur.djur_ljud:\n",
    "            self.ljud = Däggdjur.djur_ljud[namn]\n",
    "\n",
    "class Fågel(Djur):\n",
    "    djur_ljud = {\n",
    "        \"Sparv\": \"Kvitt Kvitt\",\n",
    "        \"Skata\": \"Kaaa Kaaa\"\n",
    "    }\n",
    "\n",
    "    def __init__(self, namn):\n",
    "        super().__init__(namn)\n",
    "        if namn in Fågel.djur_ljud:\n",
    "            self.ljud = Fågel.djur_ljud[namn]\n",
    "\n",
    "class Kräldjur(Djur):\n",
    "    djur_ljud = {\n",
    "        \"Orm\": \"Sssssh\",\n",
    "        \"Mask\": \"....\"\n",
    "    }\n",
    "\n",
    "    def __init__(self, namn):\n",
    "        super().__init__(namn)\n",
    "        if namn in Kräldjur.djur_ljud:\n",
    "            self.ljud = Kräldjur.djur_ljud[namn]\n",
    "\n",
    "djur_list = [  # Skapar en lista som innehåller olika djurinstanser\n",
    "    Däggdjur(\"Ko\"),    # Skapar en instans av Däggdjur med namnet \"Ko\"\n",
    "    Däggdjur(\"Katt\"), \n",
    "    Fågel(\"Sparv\"),   \n",
    "    Fågel(\"Skata\"),   \n",
    "    Kräldjur(\"Orm\"),  \n",
    "    Kräldjur(\"Mask\")\n",
    "]\n",
    "\n",
    "for djur in djur_list:  # Startar en loop som itererar över varje djur i djur_list\n",
    "    print(djur.beskriv())  # Skriver ut en beskrivning av varje djur och dess ljud\n",
    "\n"
   ]
  },
  {
   "cell_type": "code",
   "execution_count": 62,
   "metadata": {},
   "outputs": [
    {
     "name": "stdout",
     "output_type": "stream",
     "text": [
      "Welcome to blackjack!\n",
      "Starting the game...\n"
     ]
    },
    {
     "ename": "TypeError",
     "evalue": "Population must be a sequence.  For dicts or sets, use sorted(d).",
     "output_type": "error",
     "traceback": [
      "\u001b[1;31m---------------------------------------------------------------------------\u001b[0m",
      "\u001b[1;31mTypeError\u001b[0m                                 Traceback (most recent call last)",
      "Cell \u001b[1;32mIn [62], line 41\u001b[0m\n\u001b[0;32m     39\u001b[0m \u001b[38;5;28;01mif\u001b[39;00m blackjack_game\u001b[38;5;241m.\u001b[39mplay\u001b[38;5;241m.\u001b[39mupper() \u001b[38;5;241m==\u001b[39m \u001b[38;5;124m'\u001b[39m\u001b[38;5;124mY\u001b[39m\u001b[38;5;124m'\u001b[39m:\n\u001b[0;32m     40\u001b[0m     \u001b[38;5;28mprint\u001b[39m(\u001b[38;5;124m\"\u001b[39m\u001b[38;5;124mStarting the game...\u001b[39m\u001b[38;5;124m\"\u001b[39m)\n\u001b[1;32m---> 41\u001b[0m     two_random_cards \u001b[38;5;241m=\u001b[39m \u001b[43mdeck\u001b[49m\u001b[38;5;241;43m.\u001b[39;49m\u001b[43mdraw_two_cards\u001b[49m\u001b[43m(\u001b[49m\u001b[43m)\u001b[49m\n\u001b[0;32m     42\u001b[0m     \u001b[38;5;28mprint\u001b[39m(\u001b[38;5;124m\"\u001b[39m\u001b[38;5;124mTwo random cards:\u001b[39m\u001b[38;5;124m\"\u001b[39m, two_random_cards)\n\u001b[0;32m     43\u001b[0m \u001b[38;5;28;01melse\u001b[39;00m:\n",
      "Cell \u001b[1;32mIn [62], line 22\u001b[0m, in \u001b[0;36mdeck.draw_two_cards\u001b[1;34m(self)\u001b[0m\n\u001b[0;32m     21\u001b[0m \u001b[38;5;28;01mdef\u001b[39;00m \u001b[38;5;21mdraw_two_cards\u001b[39m(\u001b[38;5;28mself\u001b[39m):\n\u001b[1;32m---> 22\u001b[0m     hand \u001b[38;5;241m=\u001b[39m \u001b[43mrandom\u001b[49m\u001b[38;5;241;43m.\u001b[39;49m\u001b[43msample\u001b[49m\u001b[43m(\u001b[49m\u001b[38;5;28;43mself\u001b[39;49m\u001b[38;5;241;43m.\u001b[39;49m\u001b[43mcards\u001b[49m\u001b[43m,\u001b[49m\u001b[43m \u001b[49m\u001b[38;5;241;43m2\u001b[39;49m\u001b[43m)\u001b[49m\n\u001b[0;32m     23\u001b[0m     \u001b[38;5;28;01mreturn\u001b[39;00m hand\n",
      "File \u001b[1;32mc:\\Users\\Axeflo6\\AppData\\Local\\Programs\\Python\\Python310\\lib\\random.py:466\u001b[0m, in \u001b[0;36mRandom.sample\u001b[1;34m(self, population, k, counts)\u001b[0m\n\u001b[0;32m    464\u001b[0m         population \u001b[38;5;241m=\u001b[39m \u001b[38;5;28mtuple\u001b[39m(population)\n\u001b[0;32m    465\u001b[0m     \u001b[38;5;28;01melse\u001b[39;00m:\n\u001b[1;32m--> 466\u001b[0m         \u001b[38;5;28;01mraise\u001b[39;00m \u001b[38;5;167;01mTypeError\u001b[39;00m(\u001b[38;5;124m\"\u001b[39m\u001b[38;5;124mPopulation must be a sequence.  For dicts or sets, use sorted(d).\u001b[39m\u001b[38;5;124m\"\u001b[39m)\n\u001b[0;32m    467\u001b[0m n \u001b[38;5;241m=\u001b[39m \u001b[38;5;28mlen\u001b[39m(population)\n\u001b[0;32m    468\u001b[0m \u001b[38;5;28;01mif\u001b[39;00m counts \u001b[38;5;129;01mis\u001b[39;00m \u001b[38;5;129;01mnot\u001b[39;00m \u001b[38;5;28;01mNone\u001b[39;00m:\n",
      "\u001b[1;31mTypeError\u001b[0m: Population must be a sequence.  For dicts or sets, use sorted(d)."
     ]
    }
   ],
   "source": [
    "import random\n",
    "\n",
    "\n",
    "class blackjack():\n",
    "    def __init__(self):\n",
    "        self.welcome = \"Welcome to blackjack!\"\n",
    "        self.play = input(\"Ready Y/N?\")\n",
    "        #self.status\n",
    "        #self.dealerdraw\n",
    "\n",
    "\n",
    "\n",
    "class deck():\n",
    "    def __init__(self, cards):\n",
    "        self.cards = cards\n",
    "        self.shuffle_deck()\n",
    "    \n",
    "    def shuffle_deck(self):\n",
    "        self.cards = self.cards\n",
    "\n",
    "    def draw_two_cards(self):\n",
    "        hand = random.sample(self.cards, 2)\n",
    "        return hand\n",
    "\n",
    "\n",
    "class cards():\n",
    "    def __init__(self):\n",
    "        self.values = [2, 3, 4, 5, 6, 7, 8, 9, 10, 10, 10, 10]\n",
    "        self.ess = [1, 11]\n",
    "\n",
    "\n",
    "\n",
    "blackjack_game = blackjack()\n",
    "cards = cards()\n",
    "deck = deck(cards)\n",
    "\n",
    "print(blackjack_game.welcome)\n",
    "\n",
    "if blackjack_game.play.upper() == 'Y':\n",
    "    print(\"Starting the game...\")\n",
    "    two_random_cards = deck.draw_two_cards()\n",
    "    print(\"Two random cards:\", two_random_cards)\n",
    "else:\n",
    "    print(\"Exiting the game.\")"
   ]
  }
 ],
 "metadata": {
  "kernelspec": {
   "display_name": "Python 3",
   "language": "python",
   "name": "python3"
  },
  "language_info": {
   "codemirror_mode": {
    "name": "ipython",
    "version": 3
   },
   "file_extension": ".py",
   "mimetype": "text/x-python",
   "name": "python",
   "nbconvert_exporter": "python",
   "pygments_lexer": "ipython3",
   "version": "3.10.6"
  },
  "orig_nbformat": 4,
  "vscode": {
   "interpreter": {
    "hash": "157bb5e82d7224c478f76d980b743d9bbd2f9127d82f7fe594780a6e76884cbb"
   }
  }
 },
 "nbformat": 4,
 "nbformat_minor": 2
}
