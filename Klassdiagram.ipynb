{
 "cells": [
  {
   "cell_type": "code",
   "execution_count": 1,
   "metadata": {},
   "outputs": [
    {
     "name": "stdout",
     "output_type": "stream",
     "text": [
      "Djuret heter Ko och gör ljudet Muu\n",
      "Djuret heter Katt och gör ljudet Mjau\n",
      "Djuret heter Sparv och gör ljudet Kvitt Kvitt\n",
      "Djuret heter Skata och gör ljudet Kaaa Kaaa\n",
      "Djuret heter Orm och gör ljudet Sssssh\n",
      "Djuret heter Mask och gör ljudet ....\n"
     ]
    }
   ],
   "source": [
    "class Djur:#Superklass\n",
    "    def __init__(self, namn): #Konsturktörer\n",
    "        self.namn = namn\n",
    "        self.ljud = \"Okänt\" #Sätter ljudet till okänt om det inte blir definerat\n",
    "\n",
    "    def beskriv(self): #En liten beskrivare\n",
    "        return f\"Djuret heter {self.namn} och gör ljudet {self.ljud}\"\n",
    "\n",
    "class Däggdjur(Djur): #Däggdjur med arv från Djur\n",
    "    djur_ljud = { #Skapar en dictionary för enklare kod\n",
    "        \"Ko\": \"Muu\", #Ko med ljudet Muu\n",
    "        \"Katt\": \"Mjau\"\n",
    "    }\n",
    "\n",
    "    def __init__(self, namn): #Tar informaionen från däggdjur och lägger den in i superkonsturktörerna\n",
    "        super().__init__(namn)\n",
    "        if namn in Däggdjur.djur_ljud:\n",
    "            self.ljud = Däggdjur.djur_ljud[namn]\n",
    "\n",
    "class Fågel(Djur):\n",
    "    djur_ljud = {\n",
    "        \"Sparv\": \"Kvitt Kvitt\",\n",
    "        \"Skata\": \"Kaaa Kaaa\"\n",
    "    }\n",
    "\n",
    "    def __init__(self, namn):\n",
    "        super().__init__(namn)\n",
    "        if namn in Fågel.djur_ljud:\n",
    "            self.ljud = Fågel.djur_ljud[namn]\n",
    "\n",
    "class Kräldjur(Djur):\n",
    "    djur_ljud = {\n",
    "        \"Orm\": \"Sssssh\",\n",
    "        \"Mask\": \"....\"\n",
    "    }\n",
    "\n",
    "    def __init__(self, namn):\n",
    "        super().__init__(namn)\n",
    "        if namn in Kräldjur.djur_ljud:\n",
    "            self.ljud = Kräldjur.djur_ljud[namn]\n",
    "\n",
    "djur_list = [  # Skapar en lista som innehåller olika djurinstanser\n",
    "    Däggdjur(\"Ko\"),    # Skapar en instans av Däggdjur med namnet \"Ko\"\n",
    "    Däggdjur(\"Katt\"), \n",
    "    Fågel(\"Sparv\"),   \n",
    "    Fågel(\"Skata\"),   \n",
    "    Kräldjur(\"Orm\"),  \n",
    "    Kräldjur(\"Mask\")\n",
    "]\n",
    "\n",
    "for djur in djur_list:  # Startar en loop som itererar över varje djur i djur_list\n",
    "    print(djur.beskriv())  # Skriver ut en beskrivning av varje djur och dess ljud\n",
    "\n"
   ]
  },
  {
   "cell_type": "code",
   "execution_count": 39,
   "metadata": {},
   "outputs": [
    {
     "name": "stdout",
     "output_type": "stream",
     "text": [
      "0\n",
      "0\n"
     ]
    }
   ],
   "source": [
    "import random\n",
    "\n",
    "\n",
    "class Blackjack():\n",
    "    def __init__(self):\n",
    "        self.dealer = print('0')\n",
    "        self.player = print('0')\n",
    "        self.deck = Deck\n",
    "\n",
    "    def play(self):\n",
    "\n",
    "        pass\n",
    "\n",
    "    def welcome(self):\n",
    "        print(\"Welcome to venetti!\")\n",
    "        bet = input(\"How much is your bet?\")\n",
    "        if bet.isnumeric():\n",
    "            print(\"Let's get started\")\n",
    "        else:\n",
    "            print(\"Hm??? You gonna bet? Let's try that again...\")\n",
    "\n",
    "    def status(self):\n",
    "        pass\n",
    "\n",
    "    def dealer_draw_cards():\n",
    "        pass\n",
    "\n",
    "\n",
    "\n",
    "\n",
    "\n",
    "class Deck():\n",
    "    def __init__(self, cards):\n",
    "        self.cards = cards\n",
    "\n",
    "    def generate_deck(self):\n",
    "        pass\n",
    "    \n",
    "    def shuffle_deck(self):\n",
    "        self.cards = self.cards\n",
    "\n",
    "    def take_card(self):\n",
    "        hand = random.sample(self.cards, 2)\n",
    "        return hand\n",
    "\n",
    "\n",
    "\n",
    "\n",
    "\n",
    "class Cards():\n",
    "    def __init__(self, colors, values, numbers):\n",
    "        self.colors = ['red', 'black']\n",
    "        self.values = ['Hearts', 'Diamonds', 'Clubs', 'Spades']\n",
    "        self.numbers = [2, 3, 4, 5, 6, 7, 8, 9, 10, Jack, Queen, King, Ace]\n",
    "        King, Queen, Jack = 10\n",
    "\n",
    "    def set_color(colors:int):\n",
    "        random.choice(colors)\n",
    "\n",
    "    def get_color(colors):\n",
    "        return()\n",
    "                    \n",
    "    def __str__(self):\n",
    "        return f\"{self.colors.values.numbers}\"\n",
    "\n",
    "\n",
    "\n",
    "blackjack_game = Blackjack()\n",
    "\n",
    "\n",
    "\n",
    "\n",
    "\n",
    "\n"
   ]
  },
  {
   "cell_type": "code",
   "execution_count": 1,
   "metadata": {},
   "outputs": [
    {
     "name": "stdout",
     "output_type": "stream",
     "text": [
      "['2 of Hearts', '3 of Hearts', '4 of Hearts', '5 of Hearts', '6 of Hearts', '7 of Hearts', '8 of Hearts', '9 of Hearts', '10 of Hearts', 'Jack of Hearts', 'Queen of Hearts', 'King of Hearts', 'Ace of Hearts', '2 of Diamonds', '3 of Diamonds', '4 of Diamonds', '5 of Diamonds', '6 of Diamonds', '7 of Diamonds', '8 of Diamonds', '9 of Diamonds', '10 of Diamonds', 'Jack of Diamonds', 'Queen of Diamonds', 'King of Diamonds', 'Ace of Diamonds', '2 of Clubs', '3 of Clubs', '4 of Clubs', '5 of Clubs', '6 of Clubs', '7 of Clubs', '8 of Clubs', '9 of Clubs', '10 of Clubs', 'Jack of Clubs', 'Queen of Clubs', 'King of Clubs', 'Ace of Clubs', '2 of Spades', '3 of Spades', '4 of Spades', '5 of Spades', '6 of Spades', '7 of Spades', '8 of Spades', '9 of Spades', '10 of Spades', 'Jack of Spades', 'Queen of Spades', 'King of Spades', 'Ace of Spades']\n"
     ]
    }
   ],
   "source": [
    "import random\n",
    "\n",
    "suits = ['Hearts', 'Diamonds', 'Clubs', 'Spades']\n",
    "ranks = ['2', '3', '4', '5', '6', '7', '8', '9', '10', 'Jack', 'Queen', 'King', 'Ace']\n",
    "\n",
    "deck = []\n",
    "\n",
    "for suit in suits:\n",
    "    for rank in ranks:\n",
    "            deck.append(f'{rank} of {suit}')\n",
    "\n",
    "random.sample((deck), 2)\n",
    "print(deck)"
   ]
  }
 ],
 "metadata": {
  "kernelspec": {
   "display_name": "Python 3",
   "language": "python",
   "name": "python3"
  },
  "language_info": {
   "codemirror_mode": {
    "name": "ipython",
    "version": 3
   },
   "file_extension": ".py",
   "mimetype": "text/x-python",
   "name": "python",
   "nbconvert_exporter": "python",
   "pygments_lexer": "ipython3",
   "version": "3.10.6"
  },
  "orig_nbformat": 4,
  "vscode": {
   "interpreter": {
    "hash": "157bb5e82d7224c478f76d980b743d9bbd2f9127d82f7fe594780a6e76884cbb"
   }
  }
 },
 "nbformat": 4,
 "nbformat_minor": 2
}
