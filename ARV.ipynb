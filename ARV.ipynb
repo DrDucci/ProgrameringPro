{
 "cells": [
  {
   "cell_type": "code",
   "execution_count": 12,
   "metadata": {},
   "outputs": [
    {
     "name": "stdout",
     "output_type": "stream",
     "text": [
      "The video name is Home video 2 and has the length 5 minutes\n",
      "The movie's name is Isle of Dogs with a length of 101. Was created by Wes Anderson, and has the rating 8.0\n",
      "The WebVideo has the name Charlie bit my finger, 1 minutes with 100000 likes and 0 dislikes, and ['What a funny clip', 'Amazing'] as one of the comments\n"
     ]
    }
   ],
   "source": [
    "class Video(): #superklass\n",
    "    def __init__(self, title, length): #superkonstruktörer\n",
    "\n",
    "        self.title = title \n",
    "        self.length = length\n",
    "\n",
    "    def print_info(self): #En f string för videor\n",
    "        return f\"The video name is {self.title} and has the length {self.length} minutes\"\n",
    "\n",
    "\n",
    "class Movie(Video): #Subklass av Video\n",
    "    def __init__(self, title, length, director, rating): #Konstruktörer i endast Movie\n",
    "        super().__init__(title, length)\n",
    "\n",
    "        self.director = director\n",
    "        self.rating = rating\n",
    "\n",
    "    def print_info(self): #En f string för filmer\n",
    "        return f\"The movie's name is {self.title} with a length of {self.length}. Was created by {self.director}, and has the rating {self.rating}\"\n",
    "\n",
    "\n",
    "class WebVideo(Video):\n",
    "    def __init__(self, title, length, likes, dislikes, comments):\n",
    "        super().__init__(title, length)\n",
    "        self.likes = likes\n",
    "        self.dislikes = dislikes\n",
    "        self.comments = comments\n",
    "\n",
    "    def print_info(self): #En f string för Webvideo\n",
    "        return f\"The WebVideo has the name {self.title}, {self.length} minutes with {self.likes} likes and {self.dislikes} dislikes, and {self.comments} as one of the comments\"\n",
    "\n",
    "\n",
    "home = Video(\"Home video 2\", 5)#lITE info om alla objekt\n",
    "dogs = Movie(\"Isle of Dogs\", 101, \"Wes Anderson\", 8.0)\n",
    "charlie = WebVideo(\"Charlie bit my finger\", 1, 100000, 0, [\"What a funny clip\", \"Amazing\"])\n",
    "\n",
    "print(home.print_info()) #Print...\n",
    "print(dogs.print_info())\n",
    "print(charlie.print_info())"
   ]
  }
 ],
 "metadata": {
  "kernelspec": {
   "display_name": "Python 3",
   "language": "python",
   "name": "python3"
  },
  "language_info": {
   "codemirror_mode": {
    "name": "ipython",
    "version": 3
   },
   "file_extension": ".py",
   "mimetype": "text/x-python",
   "name": "python",
   "nbconvert_exporter": "python",
   "pygments_lexer": "ipython3",
   "version": "3.10.6"
  },
  "orig_nbformat": 4
 },
 "nbformat": 4,
 "nbformat_minor": 2
}
