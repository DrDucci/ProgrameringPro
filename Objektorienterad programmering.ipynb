{
 "cells": [
  {
   "cell_type": "code",
   "execution_count": 43,
   "metadata": {},
   "outputs": [
    {
     "name": "stdout",
     "output_type": "stream",
     "text": [
      "Namn: Boken som bok Sidor: 458 Sidor Skribent: Albertito Pris: 1099Kr\n",
      "Namn: En bok som bok Sidor: 766 Skribent: Någon Pris: 10Kr\n"
     ]
    }
   ],
   "source": [
    "class Bok:\n",
    "    def __init__(self, Namn, Skribent, Sidor, Pris) -> None:#Definerar alla innehåll\n",
    "        self.Namn = Namn\n",
    "        self.Skribent = Skribent\n",
    "        self.Sidor = Sidor\n",
    "        self.Pris = Pris\n",
    "    \n",
    "    def myfunc(self):#En funktion som ska skriva ut alla innehåll\n",
    "        print(self.Namn, self.Skribent, self.Sidor, self.Pris)\n",
    "\n",
    "Bok1 = Bok(\"Namn: Boken som bok\", \"Skribent: Albertito\", \"Sidor: 458 Sidor\", \"Pris: 1099Kr\")#Info\n",
    "Bok1.myfunc()#Startar print funktionen\n",
    "\n",
    "Bok1 = Bok(\"Namn: En bok som bok\", \"Skribent: Någon\", \"Sidor: 766\", \"Pris: 10Kr\")\n",
    "Bok1.myfunc()"
   ]
  },
  {
   "cell_type": "code",
   "execution_count": 4,
   "metadata": {},
   "outputs": [
    {
     "name": "stdout",
     "output_type": "stream",
     "text": [
      "Ditt namn är: Axel Din adress är: Boås Och ditt nummer är: 239939393\n"
     ]
    }
   ],
   "source": [
    "class Personen: #Sätter in Innehåll i klassen\n",
    "    def __init__(self, Namn, Adress, Nummer) -> None:\n",
    "            self.Namn = Namn\n",
    "            self.Adress = Adress\n",
    "            self.Nummer = Nummer\n",
    "\n",
    "    def __str__(self): #En sträng som ska lägga in den inmatade infon\n",
    "          return f\"Ditt namn är: {self.Namn:} din adress är: {self.Adress:} och ditt nummer är: {self.Nummer:}\"\n",
    "\n",
    "Namn=input(\"Vad heter du?\") #Lite inputs för infon\n",
    "Adress=input(\"Din adress?\")\n",
    "Nummer=input(\"Telefonnummer\")\n",
    "\n",
    "Personenprint=Personen(Namn, Adress, Nummer,) #Ger classen till en variabel som sedan ska skriva ut infon.\n",
    "print(Personenprint)"
   ]
  },
  {
   "cell_type": "markdown",
   "metadata": {},
   "source": [
    "Träningsuppgift 3\n",
    "\n",
    "Studera följande kod. Ändra gärna och experimentera och se vad som händer. "
   ]
  },
  {
   "cell_type": "code",
   "execution_count": 23,
   "metadata": {},
   "outputs": [
    {
     "name": "stdout",
     "output_type": "stream",
     "text": [
      "Library My library with 3 books\n",
      "Library My library with 2 books\n",
      "Book The Lord of the Rings by J.R.R. Tolkien\n",
      "None\n",
      "[<__main__.Book object at 0x0000019DEDA4E2F0>, <__main__.Book object at 0x0000019DEDA4E680>]\n",
      "Book The Lord of the Rings by J.R.R. Tolkien\n"
     ]
    }
   ],
   "source": [
    "class Library: \n",
    "    def __init__(self, name):#Skapar en lista för alla böcker \n",
    "        self.name = name\n",
    "        self.books = []\n",
    " \n",
    "    def add_book(self, book): #Lägger in böcker i listan\n",
    "        self.books.append(book)\n",
    " \n",
    "    def get_books(self): #En konstruktor för när man vill ha listan\n",
    "        return self.books\n",
    " \n",
    "    def get_book(self, title): #En konstuktor för när man skriver in en bok som redan finns\n",
    "        for book in self.books:\n",
    "            if book.title == title:\n",
    "                return book\n",
    "        return None\n",
    " \n",
    "    def remove_book(self, title): #Tar bort boken man vill\n",
    "        book = self.get_book(title)\n",
    "        if book:\n",
    "            self.books.remove(book)\n",
    " \n",
    "    def __str__(self): #Skickar tillbaka info om library namn och antal böcer i den\n",
    "        return f\"Library {self.name} with {len(self.books)} books\"\n",
    " \n",
    "class Book: \n",
    "    def __init__(self, title, author): #Sätter info om böcker som titel och skrivent\n",
    "        self.title = title\n",
    "        self.author = author\n",
    " \n",
    "    def __str__(self): #Om man vill få tillbaka titeln och skriventen\n",
    "        return f\"Book {self.title} by {self.author}\"\n",
    " \n",
    "if __name__ == \"__main__\":\n",
    " \n",
    "    library = Library(\"My library\") #Library heter my library\n",
    " \n",
    "    book1 = Book(\"The Hobbit\", \"J.R.R. Tolkien\") #Lägger till böcker\n",
    "    book2 = Book(\"The Lord of the Rings\", \"J.R.R. Tolkien\")\n",
    "    book3 = Book(\"The Silmarillion\", \"J.R.R. Tolkien\")\n",
    " \n",
    "    library.add_book(book1) #Lägger till böcker\n",
    "    library.add_book(book2)\n",
    "    library.add_book(book3)\n",
    " \n",
    "    print(library) #Skriver ut listan med böcker\n",
    " \n",
    "    library.remove_book(\"The Hobbit\")\n",
    " \n",
    "    print(library) #Skriver ut listan utan the hobbit ^\n",
    " \n",
    "    print(library.get_book(\"The Lord of the Rings\")) #Skriver ut all info inlagd i biblioteket\n",
    " \n",
    "    print(library.get_book(\"The Hobbit\")) #Boken finns inte därför skriver den None\n",
    " \n",
    "    print(library.get_books()) #Blir en error då det inte finns något skrivet\n",
    " \n",
    "    print(library.get_books()[0]) #Skriver ut nummer 0 i listan av böcker\n",
    "\n",
    "    #Man skulle kunna göra så att användaren kan skriva in boken den vill hitta istället för att skriva i koden."
   ]
  },
  {
   "cell_type": "markdown",
   "metadata": {},
   "source": [
    "Träningsuppgift 4\n",
    "\n",
    " Studera följande kod. Ändra gärna och experimentera och se vad som händer. "
   ]
  },
  {
   "cell_type": "code",
   "execution_count": null,
   "metadata": {},
   "outputs": [],
   "source": [
    "class Spel ():\n",
    "    def __init__(self, namn, pris, ålder): #Konstruerar objektet Spel med namn pris ålder\n",
    "        self.namn = namn\n",
    "        self.pris = pris\n",
    "        self.ålder = ålder\n",
    "    def __str__(self):\n",
    "        return f\"Namn: {self.namn}, Pris: {self.pris}, Ålder: {self.ålder}\" #Returnar Namn Pris och Ålder\n",
    " \n",
    "class Spelbutik (): \n",
    "    def __init__(self, namn, adress, spel): #Konstruerar objektet Spelbutik med namn adress och spel\n",
    "        self.namn = namn\n",
    "        self.adress = adress\n",
    "        self.spel = spel\n",
    "    def __str__(self):\n",
    "        return f\"Namn: {self.namn}, Adress: {self.adress}, Spel: {self.spel}\"\n",
    " \n",
    "#skapa objekt\n",
    "spel1 = Spel(\"Minecraft\", 200, 7) #Lite spelobjekt\n",
    "spel2 = Spel(\"Fortnite\", 300, 12)\n",
    "spel3 = Spel(\"PUBG\", 400, 16)\n",
    "spel4 = Spel(\"League of Legends\", 500, 18)\n",
    " \n",
    "#skapa lista\n",
    "spel = [spel1, spel2, spel3, spel4] #En lista med alla spel som var innlagda åvan\n",
    " \n",
    "#skapa objekt\n",
    "butik1 = Spelbutik(\"Gamestop\", \"Stockholm\", spel) #Lägger till lite spelbutiker\n",
    "butik2 = Spelbutik(\"Game\", \"Göteborg\", spel)\n",
    "butik3 = Spelbutik(\"Game\", \"Malmö\", spel)\n",
    " \n",
    "print(butik1) #Prints\n",
    "print(butik2)\n",
    "print(butik3)\n",
    " \n",
    "print (spel1)\n",
    "print (spel2)\n",
    "print (spel3)\n",
    " \n",
    "\n",
    "print (spel4)\n",
    " "
   ]
  },
  {
   "cell_type": "markdown",
   "metadata": {},
   "source": [
    "Träningsuppgift 5 (ej obligatorisk. Vi kommer att gå igenom GUI sen och tkinter)\n",
    "\n",
    "Vi ska så småningom arbeta med tkinter bibliotek som används för grafisk visning av olika funktioner. Studera följande kod och försök att förstå vad den gör. Jag rekommenderar att ni självklart kör koden först:"
   ]
  },
  {
   "cell_type": "code",
   "execution_count": 2,
   "metadata": {},
   "outputs": [],
   "source": [
    "from tkinter import *\n",
    "from tkinter import ttk #Importerar bibliotek från tkinter\n",
    " \n",
    "class Application(Frame):\n",
    "    def __init__(self, master): #Skapar en ruta för gui\n",
    "        super(Application, self).__init__(master)\n",
    "        self.grid()\n",
    "        self.create_widgets() #Skapar rutan\n",
    " \n",
    "    def create_widgets(self):\n",
    "        self.button = Button(self, text = \"Click me!\", command = self.click) #Skapar en knapp som man ska kunna en knapp\n",
    "        self.button.grid() #Lägger till inom grid\n",
    " \n",
    "        self.text = Text(self, width = 40, height = 5, wrap = WORD) #Lite mått\n",
    "        self.text.grid() #Lägger till inom grid\n",
    " \n",
    "    def click(self):\n",
    "        self.text.insert(0.0, \"You clicked the button!\") #Definerar vad som ska hända om man clickar knappen\n",
    " \n",
    "root = Tk() #Roten ska vara Tk eftersom att den är genom Tkinter\n",
    " \n",
    "root.title(\"Click me!\") #Titeln till rutan ska vara Click me!\n",
    " \n",
    "app = Application(root) #App är bunden till Application\n",
    " \n",
    "root.mainloop()"
   ]
  }
 ],
 "metadata": {
  "kernelspec": {
   "display_name": "Python 3",
   "language": "python",
   "name": "python3"
  },
  "language_info": {
   "codemirror_mode": {
    "name": "ipython",
    "version": 3
   },
   "file_extension": ".py",
   "mimetype": "text/x-python",
   "name": "python",
   "nbconvert_exporter": "python",
   "pygments_lexer": "ipython3",
   "version": "3.10.6"
  },
  "orig_nbformat": 4
 },
 "nbformat": 4,
 "nbformat_minor": 2
}
